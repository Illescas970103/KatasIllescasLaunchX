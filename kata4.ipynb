{
 "cells": [
  {
   "cell_type": "markdown",
   "metadata": {},
   "source": [
    "# Ejercicio 1: Transformar Cadenas\n",
    "Hay varias operaciones que puedes realizar en las cadenas cuando las manipulamos. En este ejercicio, usarás métodos de cadena para modificar el texto con hechos sobre la Luna y luego extraerás información para crear un breve resumen."
   ]
  },
  {
   "cell_type": "code",
   "execution_count": 3,
   "metadata": {},
   "outputs": [],
   "source": [
    "text = \"\"\"Interesting facts about the Moon. The Moon is Earth's only satellite. There are several interesting facts about the Moon and how it affects life here on Earth. \n",
    "On average, the Moon moves 4cm away from the Earth every year. This yearly drift is not significant enough to cause immediate effects on Earth. The highest daylight temperature of the Moon is 127 C.\"\"\"\n",
    "\n",
    "text_splited=text.split('.')"
   ]
  },
  {
   "cell_type": "code",
   "execution_count": 2,
   "metadata": {},
   "outputs": [],
   "source": [
    "#Ahora, define algunas palabras clave para búsqueda que te ayudarán a determinar si una oración contiene un hecho.\n",
    "\n",
    "key_words=['average','temperature','distance']\n"
   ]
  },
  {
   "cell_type": "code",
   "execution_count": 6,
   "metadata": {},
   "outputs": [
    {
     "name": "stdout",
     "output_type": "stream",
     "text": [
      " \n",
      "On average, the Moon moves 4cm away from the Earth every year\n"
     ]
    }
   ],
   "source": [
    "#Cre un bucle para imprimir solo datos sobre la Luna que estén relacionados con las palabras clave definidas anteriormente:\n",
    "\n",
    "for sentencia in text_splited:\n",
    "    for palabras in key_words:\n",
    "        if palabras in sentencia:\n",
    "         print(sentencia)\n",
    "        break"
   ]
  },
  {
   "cell_type": "code",
   "execution_count": 7,
   "metadata": {},
   "outputs": [
    {
     "name": "stdout",
     "output_type": "stream",
     "text": [
      "average\n",
      "temperature\n"
     ]
    }
   ],
   "source": [
    "#Realiza un bucle para remplazar C a celsius \n",
    "for sentencia in text_splited:\n",
    "    for palabras in key_words:\n",
    "        if palabras in sentencia:\n",
    "            palabras.replace('C','celsius')\n",
    "            print(palabras)\n",
    "            break\n",
    "        "
   ]
  },
  {
   "cell_type": "markdown",
   "metadata": {},
   "source": [
    "# EJERCICIO 2"
   ]
  },
  {
   "cell_type": "code",
   "execution_count": 10,
   "metadata": {},
   "outputs": [],
   "source": [
    "# Datos con los que vas a trabajar\n",
    "name = \"Moon\"\n",
    "gravity = 0.00162 # in kms\n",
    "planet = \"Earth\""
   ]
  },
  {
   "cell_type": "code",
   "execution_count": 12,
   "metadata": {},
   "outputs": [
    {
     "name": "stdout",
     "output_type": "stream",
     "text": [
      "Moon's Gravity on Earth\n",
      "------------------------------------\n",
      "Planet Name: Earth\n",
      "Moon's Gravity 0.00162\n"
     ]
    }
   ],
   "source": [
    "print(f\"{name}'s Gravity on {planet}\")\n",
    "print(\"------------------------------------\")\n",
    "print('Planet Name: {}'.format(planet))\n",
    "print(f\"Moon's Gravity {gravity}\")"
   ]
  },
  {
   "cell_type": "code",
   "execution_count": 13,
   "metadata": {},
   "outputs": [
    {
     "data": {
      "text/plain": [
       "1.6199999999999999"
      ]
     },
     "execution_count": 13,
     "metadata": {},
     "output_type": "execute_result"
    }
   ],
   "source": [
    "#Ahora crea una plantilla de cadena multilínea para contener el resto de la información.\n",
    "# En lugar de usar kilómetros, debes convertir la distancia a metros multiplicando por 1,000.\n",
    "transformed_gravity=gravity*1000\n",
    "transformed_gravity"
   ]
  },
  {
   "cell_type": "code",
   "execution_count": 16,
   "metadata": {},
   "outputs": [
    {
     "name": "stdout",
     "output_type": "stream",
     "text": [
      "Moon's Gravity on Earth\n",
      " Planet Name : Earth\n",
      " Moon's Gravity in m 1.6199999999999999\n"
     ]
    }
   ],
   "source": [
    "new_template=\"{}'s Gravity on {}\\n Planet Name : {}\\n Moon's Gravity in m {}\".format(name,planet,planet,transformed_gravity)\n",
    "print(new_template)"
   ]
  },
  {
   "cell_type": "code",
   "execution_count": 23,
   "metadata": {},
   "outputs": [],
   "source": [
    "#Datos muestra:\n",
    "\n",
    "planeta = 'Marte '\n",
    "transformed_gravities  = 0.00143\n",
    "nombre = 'Ganímedes'\n"
   ]
  },
  {
   "cell_type": "code",
   "execution_count": 27,
   "metadata": {},
   "outputs": [],
   "source": [
    "template=\"\"\"{planeta}'s Gravity on {nombre}\\n Planet Name : {planeta}\\n Moon's Gravity in m {transformed_gravities} \"\"\""
   ]
  },
  {
   "cell_type": "code",
   "execution_count": 28,
   "metadata": {},
   "outputs": [
    {
     "name": "stdout",
     "output_type": "stream",
     "text": [
      "Marte 's Gravity on Ganímedes\n",
      " Planet Name : Marte \n",
      " Moon's Gravity in m 0.00143 \n"
     ]
    }
   ],
   "source": [
    "print(template.format(planeta=planeta,nombre=nombre,transformed_gravities=transformed_gravities))"
   ]
  },
  {
   "cell_type": "code",
   "execution_count": null,
   "metadata": {},
   "outputs": [],
   "source": []
  }
 ],
 "metadata": {
  "interpreter": {
   "hash": "95b5a64b47237dbcdb64be72db2c51051c38c1f5623680ca924dfeb801a521c3"
  },
  "kernelspec": {
   "display_name": "Python 3.9.6 64-bit",
   "language": "python",
   "name": "python3"
  },
  "language_info": {
   "codemirror_mode": {
    "name": "ipython",
    "version": 3
   },
   "file_extension": ".py",
   "mimetype": "text/x-python",
   "name": "python",
   "nbconvert_exporter": "python",
   "pygments_lexer": "ipython3",
   "version": "3.9.6"
  },
  "orig_nbformat": 4
 },
 "nbformat": 4,
 "nbformat_minor": 2
}
